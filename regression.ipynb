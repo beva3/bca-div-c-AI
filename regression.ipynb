{
 "cells": [
  {
   "cell_type": "code",
   "execution_count": 1,
   "id": "59c59cb2",
   "metadata": {},
   "outputs": [],
   "source": [
    "import matplotlib.pyplot as plt\n",
    "import pandas as pd"
   ]
  },
  {
   "cell_type": "code",
   "execution_count": 2,
   "id": "967d0871",
   "metadata": {},
   "outputs": [
    {
     "name": "stdout",
     "output_type": "stream",
     "text": [
      "   age  height\n",
      "0    5     1.0\n",
      "1   10     1.5\n",
      "2   15     1.8\n",
      "3   20     2.0\n",
      "4   25     2.2\n"
     ]
    }
   ],
   "source": [
    "data = {\n",
    "    'age': [5, 10, 15, 20, 25],\n",
    "    'height': [1.0, 1.5, 1.8, 2.0, 2.2],\n",
    "}\n",
    "\n",
    "df = pd.DataFrame(data)\n",
    "\n",
    "print(df)"
   ]
  },
  {
   "cell_type": "code",
   "execution_count": 3,
   "id": "5c60305e",
   "metadata": {},
   "outputs": [
    {
     "name": "stdout",
     "output_type": "stream",
     "text": [
      "y = [0.058] * x + [0.83]\n"
     ]
    }
   ],
   "source": [
    "# apply regression\n",
    "from sklearn.linear_model import LinearRegression\n",
    "\n",
    "# separate var\n",
    "x = df[['age']]\n",
    "y = df[['height']]\n",
    "\n",
    "# create model\n",
    "model = LinearRegression()\n",
    "model.fit(x, y)\n",
    "\n",
    "# predict\n",
    "a = model.coef_[0]\n",
    "b = model.intercept_\n",
    "print(f\"y = {a} * x + {b}\")\n",
    "\n",
    "\n",
    "\n"
   ]
  }
 ],
 "metadata": {
  "kernelspec": {
   "display_name": "Python 3",
   "language": "python",
   "name": "python3"
  },
  "language_info": {
   "codemirror_mode": {
    "name": "ipython",
    "version": 3
   },
   "file_extension": ".py",
   "mimetype": "text/x-python",
   "name": "python",
   "nbconvert_exporter": "python",
   "pygments_lexer": "ipython3",
   "version": "3.13.2"
  }
 },
 "nbformat": 4,
 "nbformat_minor": 5
}
